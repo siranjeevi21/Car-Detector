{
  "nbformat": 4,
  "nbformat_minor": 0,
  "metadata": {
    "colab": {
      "name": "Untitled24.ipynb",
      "provenance": [],
      "collapsed_sections": [],
      "authorship_tag": "ABX9TyMjOyRVFGDItxttNFkjC3iZ",
      "include_colab_link": true
    },
    "kernelspec": {
      "name": "python3",
      "display_name": "Python 3"
    },
    "language_info": {
      "name": "python"
    },
    "accelerator": "GPU"
  },
  "cells": [
    {
      "cell_type": "markdown",
      "metadata": {
        "id": "view-in-github",
        "colab_type": "text"
      },
      "source": [
        "<a href=\"https://colab.research.google.com/github/siranjeevi21/Car-Detector/blob/main/Covid_prediction_using_cnn.ipynb\" target=\"_parent\"><img src=\"https://colab.research.google.com/assets/colab-badge.svg\" alt=\"Open In Colab\"/></a>"
      ]
    },
    {
      "cell_type": "code",
      "metadata": {
        "colab": {
          "base_uri": "https://localhost:8080/"
        },
        "id": "LkseXBZDlvQb",
        "outputId": "5343478c-ab8d-4ad1-b8b5-9216daf8f5eb"
      },
      "source": [
        "!wget http://cb.lk/covid_19"
      ],
      "execution_count": 1,
      "outputs": [
        {
          "output_type": "stream",
          "text": [
            "--2021-05-22 05:41:18--  http://cb.lk/covid_19\n",
            "Resolving cb.lk (cb.lk)... 159.89.170.74\n",
            "Connecting to cb.lk (cb.lk)|159.89.170.74|:80... connected.\n",
            "HTTP request sent, awaiting response... 301 Moved Permanently\n",
            "Location: https://cb.lk/covid_19 [following]\n",
            "--2021-05-22 05:41:18--  https://cb.lk/covid_19\n",
            "Connecting to cb.lk (cb.lk)|159.89.170.74|:443... connected.\n",
            "HTTP request sent, awaiting response... 302 Found\n",
            "Location: https://www.dropbox.com/s/7rjw6oet4za01op/CovidDataset-20200427T133042Z-001.zip?dl=0 [following]\n",
            "--2021-05-22 05:41:19--  https://www.dropbox.com/s/7rjw6oet4za01op/CovidDataset-20200427T133042Z-001.zip?dl=0\n",
            "Resolving www.dropbox.com (www.dropbox.com)... 162.125.6.18, 2620:100:601c:18::a27d:612\n",
            "Connecting to www.dropbox.com (www.dropbox.com)|162.125.6.18|:443... connected.\n",
            "HTTP request sent, awaiting response... 301 Moved Permanently\n",
            "Location: /s/raw/7rjw6oet4za01op/CovidDataset-20200427T133042Z-001.zip [following]\n",
            "--2021-05-22 05:41:19--  https://www.dropbox.com/s/raw/7rjw6oet4za01op/CovidDataset-20200427T133042Z-001.zip\n",
            "Reusing existing connection to www.dropbox.com:443.\n",
            "HTTP request sent, awaiting response... 302 Found\n",
            "Location: https://uc9502633d16fa49122d6c0bac81.dl.dropboxusercontent.com/cd/0/inline/BO_ZwOyJhPKEdC4loKNOW2egb0EJCMtiUWFMXTj3C4i33cbU1kMWk_B0ub_j7nKhL9fAo6qm-bkdaMu-pibeljDARcPJrD6rEUv1qpx8e0rdaqJDqL_2JMYNuAaPD1BY-rZTXfuhyckb5X5b39WVI_3B/file# [following]\n",
            "--2021-05-22 05:41:20--  https://uc9502633d16fa49122d6c0bac81.dl.dropboxusercontent.com/cd/0/inline/BO_ZwOyJhPKEdC4loKNOW2egb0EJCMtiUWFMXTj3C4i33cbU1kMWk_B0ub_j7nKhL9fAo6qm-bkdaMu-pibeljDARcPJrD6rEUv1qpx8e0rdaqJDqL_2JMYNuAaPD1BY-rZTXfuhyckb5X5b39WVI_3B/file\n",
            "Resolving uc9502633d16fa49122d6c0bac81.dl.dropboxusercontent.com (uc9502633d16fa49122d6c0bac81.dl.dropboxusercontent.com)... 162.125.6.15, 2620:100:601c:15::a27d:60f\n",
            "Connecting to uc9502633d16fa49122d6c0bac81.dl.dropboxusercontent.com (uc9502633d16fa49122d6c0bac81.dl.dropboxusercontent.com)|162.125.6.15|:443... connected.\n",
            "HTTP request sent, awaiting response... 302 Found\n",
            "Location: /cd/0/inline2/BO8nN3oxVulRdT7oLSyBO2tS-lsPscb0IUQuOX-ULeEBR9sP6qNvjZmAgX-jpo8oHERrTlmZ6QCbEfLspkdrv9eN-vinA2871vifGEyi2EVwzc4TjxV0UEDFu8-gPbZ1MW-3ddlKyyJCPEpfR09H23xkrPxu3_nR0mjt-IZ_Uf6uQ1JWzjrgPA7CNUIiXXWL47AQ3JutOEcCm9rpkRn995dEPNDreb907YyanOeATpYwZKP58UIhzO0a5wHttoazvTZ8okePF-oD_rAQ01V38NJXqBUXjPzqCO4K7Bj4B6o7qwQcEmxzcMMgoT9xmggG5xyC-aJw-zfo8M0ppmmTe5YSkQRkzxBNvPr4J5olsQdid3p9NrukOJj2tzrIHas7IlQ/file [following]\n",
            "--2021-05-22 05:41:20--  https://uc9502633d16fa49122d6c0bac81.dl.dropboxusercontent.com/cd/0/inline2/BO8nN3oxVulRdT7oLSyBO2tS-lsPscb0IUQuOX-ULeEBR9sP6qNvjZmAgX-jpo8oHERrTlmZ6QCbEfLspkdrv9eN-vinA2871vifGEyi2EVwzc4TjxV0UEDFu8-gPbZ1MW-3ddlKyyJCPEpfR09H23xkrPxu3_nR0mjt-IZ_Uf6uQ1JWzjrgPA7CNUIiXXWL47AQ3JutOEcCm9rpkRn995dEPNDreb907YyanOeATpYwZKP58UIhzO0a5wHttoazvTZ8okePF-oD_rAQ01V38NJXqBUXjPzqCO4K7Bj4B6o7qwQcEmxzcMMgoT9xmggG5xyC-aJw-zfo8M0ppmmTe5YSkQRkzxBNvPr4J5olsQdid3p9NrukOJj2tzrIHas7IlQ/file\n",
            "Reusing existing connection to uc9502633d16fa49122d6c0bac81.dl.dropboxusercontent.com:443.\n",
            "HTTP request sent, awaiting response... 200 OK\n",
            "Length: 140830621 (134M) [application/zip]\n",
            "Saving to: ‘covid_19’\n",
            "\n",
            "covid_19            100%[===================>] 134.31M   183MB/s    in 0.7s    \n",
            "\n",
            "2021-05-22 05:41:21 (183 MB/s) - ‘covid_19’ saved [140830621/140830621]\n",
            "\n"
          ],
          "name": "stdout"
        }
      ]
    },
    {
      "cell_type": "code",
      "metadata": {
        "colab": {
          "base_uri": "https://localhost:8080/"
        },
        "id": "T_jqZqIVl5Le",
        "outputId": "d5f0a8b8-28b9-4cac-c513-1aa37a1c2785"
      },
      "source": [
        "!unzip covid_19"
      ],
      "execution_count": 2,
      "outputs": [
        {
          "output_type": "stream",
          "text": [
            "Archive:  covid_19\n",
            "  inflating: CovidDataset/Val/Covid/88de9d8c39e946abd495b37cd07d89e5-6531-0.jpg  \n",
            "  inflating: CovidDataset/Val/Covid/covid-19-pneumonia-8.jpg  \n",
            "  inflating: CovidDataset/Val/Covid/85E52EB3-56E9-4D67-82DA-DEA247C82886.jpeg  \n",
            "  inflating: CovidDataset/Val/Covid/4-x-day1.jpg  \n",
            "  inflating: CovidDataset/Val/Covid/covid-19-pneumonia-53.jpg  \n",
            "  inflating: CovidDataset/Val/Covid/4e43e48d52c9e2d4c6c1fb9bc1544f_jumbo.jpeg  \n",
            "  inflating: CovidDataset/Val/Covid/covid-19-pneumonia-35-1.jpg  \n",
            "  inflating: CovidDataset/Val/Covid/53EC07C9-5CC6-4BE4-9B6F-D7B0D72AAA7E.jpeg  \n",
            "  inflating: CovidDataset/Val/Covid/6CB4EFC6-68FA-4CD5-940C-BEFA8DAFE9A7.jpeg  \n",
            "  inflating: CovidDataset/Val/Covid/58cb9263f16e94305c730685358e4e_jumbo.jpeg  \n",
            "  inflating: CovidDataset/Val/Covid/6b3bdbc31f65230b8cdcc3cef5f8ba8a-40ac-0.jpg  \n",
            "  inflating: CovidDataset/Val/Covid/auntminnie-d-2020_01_28_23_51_6665_2020_01_28_Vietnam_coronavirus.jpeg  \n",
            "  inflating: CovidDataset/Val/Covid/6b44464d-73a7-4cf3-bbb6-ffe7168300e3.annot.original.jpeg  \n",
            "  inflating: CovidDataset/Val/Covid/88de9d8c39e946abd495b37cd07d89e5-2ee6-0.jpg  \n",
            "  inflating: CovidDataset/Val/Covid/31BA3780-2323-493F-8AED-62081B9C383B.jpeg  \n",
            "  inflating: CovidDataset/Val/Covid/B2D20576-00B7-4519-A415-72DE29C90C34.jpeg  \n",
            "  inflating: CovidDataset/Val/Covid/6C94A287-C059-46A0-8600-AFB95F4727B7.jpeg  \n",
            "  inflating: CovidDataset/Train/Covid/1-s2.0-S1684118220300682-main.pdf-003-b2.png  \n",
            "  inflating: CovidDataset/Val/Covid/41591_2020_819_Fig1_HTML.webp-day5.png  \n",
            "  inflating: CovidDataset/Val/Covid/41591_2020_819_Fig1_HTML.webp-day10.png  \n",
            "  inflating: CovidDataset/Train/Covid/1-s2.0-S1684118220300682-main.pdf-003-b1.png  \n",
            "  inflating: CovidDataset/Val/Covid/16654_2_1.jpg  \n",
            "  inflating: CovidDataset/Train/Covid/nCoV-radiol.2020200269.fig1-day7.jpeg  \n",
            "  inflating: CovidDataset/Val/Covid/auntminnie-c-2020_01_28_23_51_6665_2020_01_28_Vietnam_coronavirus.jpeg  \n",
            "  inflating: CovidDataset/Train/Covid/7-fatal-covid19.jpg  \n",
            "  inflating: CovidDataset/Train/Covid/auntminnie-b-2020_01_28_23_51_6665_2020_01_28_Vietnam_coronavirus.jpeg  \n",
            "  inflating: CovidDataset/Train/Normal/NORMAL2-IM-0986-0001.jpeg  \n",
            "  inflating: CovidDataset/Train/Normal/IM-0332-0001.jpeg  \n",
            "  inflating: CovidDataset/Train/Covid/extubation-13.jpg  \n",
            "  inflating: CovidDataset/Val/Covid/covid-19-pneumonia-35-2.jpg  \n",
            "  inflating: CovidDataset/Train/Normal/NORMAL2-IM-1337-0001.jpeg  \n",
            "  inflating: CovidDataset/Val/Covid/covid-19-pneumonia-12.jpg  \n",
            "  inflating: CovidDataset/Train/Normal/IM-0644-0001-0002.jpeg  \n",
            "  inflating: CovidDataset/Train/Covid/ryct.2020200034.fig5-day7.jpeg  \n",
            "  inflating: CovidDataset/Val/Covid/7AF6C1AF-D249-4BD2-8C26-449304105D03.jpeg  \n",
            "  inflating: CovidDataset/Train/Covid/covid-19-pneumonia-15-PA.jpg  \n",
            "  inflating: CovidDataset/Train/Covid/1-s2.0-S1684118220300608-main.pdf-002.jpg  \n",
            "  inflating: CovidDataset/Train/Normal/IM-0528-0001.jpeg  \n",
            "  inflating: CovidDataset/Train/Covid/80446565-E090-4187-A031-9D3CEAA586C8.jpeg  \n",
            "  inflating: CovidDataset/Train/Covid/1-s2.0-S0929664620300449-gr2_lrg-d.jpg  \n",
            "  inflating: CovidDataset/Train/Covid/covid-19-pneumonia-bilateral.jpg  \n",
            "  inflating: CovidDataset/Train/Normal/NORMAL2-IM-1020-0001-0001.jpeg  \n",
            "  inflating: CovidDataset/Train/Covid/E63574A7-4188-4C8D-8D17-9D67A18A1AFA.jpeg  \n",
            "  inflating: CovidDataset/Train/Normal/IM-0327-0001.jpeg  \n",
            "  inflating: CovidDataset/Train/Covid/AR-1.jpg  \n",
            "  inflating: CovidDataset/Train/Covid/F2DE909F-E19C-4900-92F5-8F435B031AC6.jpeg  \n",
            "  inflating: CovidDataset/Val/Normal/NORMAL2-IM-0851-0001.jpeg  \n",
            "  inflating: CovidDataset/Train/Covid/covid-19-pneumonia-2.jpg  \n",
            "  inflating: CovidDataset/Train/Normal/IM-0539-0001.jpeg  \n",
            "  inflating: CovidDataset/Train/Normal/IM-0495-0001.jpeg  \n",
            "  inflating: CovidDataset/Train/Normal/IM-0533-0001-0002.jpeg  \n",
            "  inflating: CovidDataset/Train/Normal/IM-0724-0001.jpeg  \n",
            "  inflating: CovidDataset/Train/Covid/1.CXRCTThoraximagesofCOVID-19fromSingapore.pdf-001-fig2a.png  \n",
            "  inflating: CovidDataset/Train/Covid/1-s2.0-S0140673620303706-fx1_lrg.jpg  \n",
            "  inflating: CovidDataset/Train/Normal/IM-0491-0001-0002.jpeg  \n",
            "  inflating: CovidDataset/Train/Covid/covid-19-pneumonia-58-day-9.jpg  \n",
            "  inflating: CovidDataset/Train/Normal/IM-0555-0001.jpeg  \n",
            "  inflating: CovidDataset/Train/Covid/1.CXRCTThoraximagesofCOVID-19fromSingapore.pdf-000-fig1b.png  \n",
            "  inflating: CovidDataset/Train/Normal/IM-0326-0001.jpeg  \n",
            "  inflating: CovidDataset/Train/Covid/covid-19-caso-70-1-PA.jpg  \n",
            "  inflating: CovidDataset/Train/Covid/1.CXRCTThoraximagesofCOVID-19fromSingapore.pdf-001-fig2b.png  \n",
            "  inflating: CovidDataset/Val/Normal/NORMAL2-IM-0730-0001.jpeg  \n",
            "  inflating: CovidDataset/Train/Normal/IM-0451-0001.jpeg  \n",
            "  inflating: CovidDataset/Val/Covid/7C69C012-7479-493F-8722-ABC29C60A2DD.jpeg  \n",
            "  inflating: CovidDataset/Train/Covid/16660_2_1.jpg  \n",
            "  inflating: CovidDataset/Train/Covid/1-s2.0-S1684118220300608-main.pdf-001.jpg  \n",
            "  inflating: CovidDataset/Train/Covid/kjr-21-e24-g003-l-a.jpg  \n",
            "  inflating: CovidDataset/Train/Covid/nejmoa2001191_f1-PA.jpeg  \n",
            "  inflating: CovidDataset/Train/Normal/IM-0534-0001.jpeg  \n",
            "  inflating: CovidDataset/Train/Covid/kjr-21-e24-g002-l-a.jpg  \n",
            "  inflating: CovidDataset/Train/Covid/covid-19-pneumonia-38-pa.jpg  \n",
            "  inflating: CovidDataset/Train/Normal/NORMAL2-IM-0529-0001.jpeg  \n",
            "  inflating: CovidDataset/Train/Covid/9C34AF49-E589-44D5-92D3-168B3B04E4A6.jpeg  \n",
            "  inflating: CovidDataset/Train/Normal/IM-0221-0001.jpeg  \n",
            "  inflating: CovidDataset/Val/Normal/NORMAL2-IM-1191-0001.jpeg  \n",
            "  inflating: CovidDataset/Train/Normal/NORMAL2-IM-0831-0001.jpeg  \n",
            "  inflating: CovidDataset/Train/Normal/IM-0500-0001.jpeg  \n",
            "  inflating: CovidDataset/Val/Normal/NORMAL2-IM-1228-0001.jpeg  \n",
            "  inflating: CovidDataset/Train/Covid/extubation-1.jpg  \n",
            "  inflating: CovidDataset/Train/Covid/covid-19-infection-exclusive-gastrointestinal-symptoms-l.png  \n",
            "  inflating: CovidDataset/Val/Normal/NORMAL2-IM-1037-0001.jpeg  \n",
            "  inflating: CovidDataset/Train/Normal/NORMAL2-IM-0956-0001.jpeg  \n",
            "  inflating: CovidDataset/Train/Normal/NORMAL2-IM-0847-0001.jpeg  \n",
            "  inflating: CovidDataset/Train/Normal/IM-0389-0001.jpeg  \n",
            "  inflating: CovidDataset/Train/Normal/IM-0660-0001-0001.jpeg  \n",
            "  inflating: CovidDataset/Train/Covid/16672_1_1.jpg  \n",
            "  inflating: CovidDataset/Train/Normal/IM-0700-0001.jpeg  \n",
            "  inflating: CovidDataset/Train/Normal/NORMAL2-IM-1305-0001.jpeg  \n",
            "  inflating: CovidDataset/Train/Covid/16660_4_1.jpg  \n",
            "  inflating: CovidDataset/Val/Covid/353889E0-A1E8-4F9E-A0B8-F24F36BCFBFB.jpeg  \n",
            "  inflating: CovidDataset/Train/Covid/covid-19-pneumonia-22-day2-pa.png  \n",
            "  inflating: CovidDataset/Train/Normal/IM-0472-0001.jpeg  \n",
            "  inflating: CovidDataset/Train/Normal/NORMAL2-IM-1202-0001.jpeg  \n",
            "  inflating: CovidDataset/Train/Normal/NORMAL2-IM-1188-0001.jpeg  \n",
            "  inflating: CovidDataset/Train/Covid/2C26F453-AF3B-4517-BB9E-802CF2179543.jpeg  \n",
            "  inflating: CovidDataset/Train/Normal/NORMAL2-IM-1290-0001.jpeg  \n",
            "  inflating: CovidDataset/Train/Normal/NORMAL2-IM-1346-0001.jpeg  \n",
            "  inflating: CovidDataset/Train/Normal/NORMAL2-IM-1345-0001-0001.jpeg  \n",
            "  inflating: CovidDataset/Train/Covid/radiol.2020200274.fig3d.png  \n",
            "  inflating: CovidDataset/Train/Normal/IM-0669-0001.jpeg  \n",
            "  inflating: CovidDataset/Train/Normal/IM-0270-0001.jpeg  \n",
            "  inflating: CovidDataset/Train/Covid/covid-19-pneumonia-28.png  \n",
            "  inflating: CovidDataset/Train/Covid/ryct.2020200034.fig2.jpeg  \n",
            "  inflating: CovidDataset/Train/Normal/NORMAL2-IM-1287-0001.jpeg  \n",
            "  inflating: CovidDataset/Train/Covid/1.CXRCTThoraximagesofCOVID-19fromSingapore.pdf-000-fig1a.png  \n",
            "  inflating: CovidDataset/Train/Normal/NORMAL2-IM-0626-0001.jpeg  \n",
            "  inflating: CovidDataset/Train/Normal/IM-0543-0001.jpeg  \n",
            "  inflating: CovidDataset/Val/Normal/NORMAL2-IM-0857-0001.jpeg  \n",
            "  inflating: CovidDataset/Val/Normal/NORMAL2-IM-0905-0001.jpeg  \n",
            "  inflating: CovidDataset/Train/Covid/1-s2.0-S0929664620300449-gr2_lrg-a.jpg  \n",
            "  inflating: CovidDataset/Val/Covid/16654_1_1.png  \n",
            "  inflating: CovidDataset/Train/Covid/kjr-21-e24-g001-l-a.jpg  \n",
            "  inflating: CovidDataset/Train/Normal/IM-0433-0001.jpeg  \n",
            "  inflating: CovidDataset/Train/Covid/covid-19-pneumonia-58-day-10.jpg  \n",
            "  inflating: CovidDataset/Val/Covid/16654_4_1.jpg  \n",
            "  inflating: CovidDataset/Val/Normal/NORMAL2-IM-0790-0001.jpeg  \n",
            "  inflating: CovidDataset/Train/Normal/NORMAL2-IM-1326-0001.jpeg  \n",
            "  inflating: CovidDataset/Train/Normal/IM-0563-0001.jpeg  \n",
            "  inflating: CovidDataset/Train/Covid/ae6c954c0039de4b5edee53865ffee43-e6c8-0.jpg  \n",
            "  inflating: CovidDataset/Val/Covid/23E99E2E-447C-46E5-8EB2-D35D12473C39.png  \n",
            "  inflating: CovidDataset/Train/Covid/gr1_lrg-a.jpg  \n",
            "  inflating: CovidDataset/Train/Normal/IM-0564-0001.jpeg  \n",
            "  inflating: CovidDataset/Train/Normal/NORMAL2-IM-0499-0001.jpeg  \n",
            "  inflating: CovidDataset/Train/Covid/16663_1_1.jpg  \n",
            "  inflating: CovidDataset/Train/Covid/extubation-8.jpg  \n",
            "  inflating: CovidDataset/Train/Covid/paving.jpg  \n",
            "  inflating: CovidDataset/Train/Normal/IM-0529-0001.jpeg  \n",
            "  inflating: CovidDataset/Train/Normal/IM-0425-0001.jpeg  \n",
            "  inflating: CovidDataset/Train/Normal/IM-0439-0001.jpeg  \n",
            "  inflating: CovidDataset/Train/Normal/IM-0491-0001.jpeg  \n",
            "  inflating: CovidDataset/Train/Normal/IM-0337-0001.jpeg  \n",
            "  inflating: CovidDataset/Train/Covid/all14238-fig-0001-m-b.jpg  \n",
            "  inflating: CovidDataset/Train/Covid/covid-19-infection-exclusive-gastrointestinal-symptoms-pa.png  \n",
            "  inflating: CovidDataset/Train/Normal/NORMAL2-IM-1320-0001.jpeg  \n",
            "  inflating: CovidDataset/Train/Covid/1.CXRCTThoraximagesofCOVID-19fromSingapore.pdf-002-fig3b.png  \n",
            "  inflating: CovidDataset/Train/Normal/NORMAL2-IM-0815-0001.jpeg  \n",
            "  inflating: CovidDataset/Train/Covid/nejmoa2001191_f5-PA.jpeg  \n",
            "  inflating: CovidDataset/Train/Normal/NORMAL2-IM-1336-0001.jpeg  \n",
            "  inflating: CovidDataset/Train/Normal/IM-0369-0001.jpeg  \n",
            "  inflating: CovidDataset/Train/Normal/NORMAL2-IM-1300-0001.jpeg  \n",
            "  inflating: CovidDataset/Train/Normal/NORMAL2-IM-1295-0001.jpeg  \n",
            "  inflating: CovidDataset/Train/Normal/NORMAL2-IM-0518-0001.jpeg  \n",
            "  inflating: CovidDataset/Train/Covid/covid-19-pneumonia-34.png  \n",
            "  inflating: CovidDataset/Train/Normal/IM-0385-0001.jpeg  \n",
            "  inflating: CovidDataset/Train/Covid/F63AB6CE-1968-4154-A70F-913AF154F53D.jpeg  \n",
            "  inflating: CovidDataset/Val/Normal/NORMAL2-IM-0842-0001.jpeg  \n",
            "  inflating: CovidDataset/Val/Normal/NORMAL2-IM-0416-0001-0001.jpeg  \n",
            "  inflating: CovidDataset/Val/Normal/NORMAL2-IM-1275-0001.jpeg  \n",
            "  inflating: CovidDataset/Train/Normal/IM-0467-0001.jpeg  \n",
            "  inflating: CovidDataset/Train/Normal/NORMAL2-IM-1344-0001.jpeg  \n",
            "  inflating: CovidDataset/Train/Normal/IM-0301-0001.jpeg  \n",
            "  inflating: CovidDataset/Train/Normal/IM-0421-0001.jpeg  \n",
            "  inflating: CovidDataset/Train/Covid/ryct.2020200034.fig5-day0.jpeg  \n",
            "  inflating: CovidDataset/Train/Covid/covid-19-pneumonia-58-day-3.jpg  \n",
            "  inflating: CovidDataset/Train/Covid/covid-19-pneumonia-mild.JPG  \n",
            "  inflating: CovidDataset/Val/Normal/NORMAL2-IM-0859-0001.jpeg  \n",
            "  inflating: CovidDataset/Val/Normal/NORMAL2-IM-1237-0001.jpeg  \n",
            "  inflating: CovidDataset/Train/Normal/NORMAL2-IM-1103-0001-0001.jpeg  \n",
            "  inflating: CovidDataset/Train/Covid/1-s2.0-S1684118220300682-main.pdf-002-a2.png  \n",
            "  inflating: CovidDataset/Val/Normal/NORMAL2-IM-0535-0001-0002.jpeg  \n",
            "  inflating: CovidDataset/Train/Covid/1.CXRCTThoraximagesofCOVID-19fromSingapore.pdf-003-fig4b.png  \n",
            "  inflating: CovidDataset/Train/Normal/IM-0461-0001.jpeg  \n",
            "  inflating: CovidDataset/Train/Normal/IM-0372-0001.jpeg  \n",
            "  inflating: CovidDataset/Train/Normal/IM-0666-0001-0001.jpeg  \n",
            "  inflating: CovidDataset/Train/Normal/NORMAL2-IM-0840-0001.jpeg  \n",
            "  inflating: CovidDataset/Train/Covid/ryct.2020200034.fig5-day4.jpeg  \n",
            "  inflating: CovidDataset/Train/Normal/NORMAL2-IM-0798-0001.jpeg  \n",
            "  inflating: CovidDataset/Train/Normal/IM-0351-0001.jpeg  \n",
            "  inflating: CovidDataset/Train/Covid/auntminnie-a-2020_01_28_23_51_6665_2020_01_28_Vietnam_coronavirus.jpeg  \n",
            "  inflating: CovidDataset/Train/Covid/1-s2.0-S1684118220300682-main.pdf-002-a1.png  \n",
            "  inflating: CovidDataset/Val/Normal/NORMAL2-IM-1240-0001.jpeg  \n",
            "  inflating: CovidDataset/Train/Covid/93FE0BB1-022D-4F24-9727-987A07975FFB.jpeg  \n",
            "  inflating: CovidDataset/Train/Covid/16660_1_1.jpg  \n",
            "  inflating: CovidDataset/Train/Covid/figure1-5e71be566aa8714a04de3386-98-left.jpeg  \n",
            "  inflating: CovidDataset/Train/Normal/IM-0703-0001.jpeg  \n",
            "  inflating: CovidDataset/Train/Covid/covid-19-pneumonia-7-PA.jpg  \n",
            "  inflating: CovidDataset/Train/Normal/NORMAL2-IM-1277-0001-0002.jpeg  \n",
            "  inflating: CovidDataset/Train/Covid/8FDE8DBA-CFBD-4B4C-B1A4-6F36A93B7E87.jpeg  \n",
            "  inflating: CovidDataset/Train/Normal/IM-0482-0001.jpeg  \n",
            "  inflating: CovidDataset/Train/Normal/IM-0656-0001-0002.jpeg  \n",
            "  inflating: CovidDataset/Train/Covid/16664_1_1.jpg  \n",
            "  inflating: CovidDataset/Train/Normal/IM-0430-0001.jpeg  \n",
            "  inflating: CovidDataset/Train/Covid/covid-19-pneumonia-67.jpeg  \n",
            "  inflating: CovidDataset/Train/Covid/ciaa199.pdf-001-a.png  \n",
            "  inflating: CovidDataset/Train/Normal/IM-0187-0001.jpeg  \n",
            "  inflating: CovidDataset/Val/Normal/NORMAL2-IM-0652-0001.jpeg  \n",
            "  inflating: CovidDataset/Train/Normal/IM-0691-0001.jpeg  \n",
            "  inflating: CovidDataset/Train/Covid/CD50BA96-6982-4C80-AE7B-5F67ACDBFA56.jpeg  \n",
            "  inflating: CovidDataset/Train/Normal/NORMAL2-IM-0976-0001.jpeg  \n",
            "  inflating: CovidDataset/Train/Covid/covid-19-pneumonia-20-pa-on-admission.jpg  \n",
            "  inflating: CovidDataset/Train/Covid/1-s2.0-S0929664620300449-gr2_lrg-c.jpg  \n",
            "  inflating: CovidDataset/Train/Covid/fff49165-b22d-4bb4-b9d1-d5d62c52436c.annot.original.png  \n",
            "  inflating: CovidDataset/Train/Covid/1.CXRCTThoraximagesofCOVID-19fromSingapore.pdf-002-fig3a.png  \n",
            "  inflating: CovidDataset/Val/Normal/NORMAL2-IM-0395-0001.jpeg  \n",
            "  inflating: CovidDataset/Train/Normal/IM-0182-0001.jpeg  \n",
            "  inflating: CovidDataset/Train/Covid/covid-19-pneumonia-evolution-over-a-week-1-day0-PA.jpg  \n",
            "  inflating: CovidDataset/Val/Normal/NORMAL2-IM-0914-0001.jpeg  \n",
            "  inflating: CovidDataset/Train/Covid/covid-19-pneumonia-30-PA.jpg  \n",
            "  inflating: CovidDataset/Train/Covid/nejmc2001573_f1a.jpeg  \n",
            "  inflating: CovidDataset/Train/Covid/kjr-21-e25-g001-l-a.jpg  \n",
            "  inflating: CovidDataset/Val/Normal/NORMAL2-IM-0873-0001.jpeg  \n",
            "  inflating: CovidDataset/Train/Normal/NORMAL2-IM-0501-0001.jpeg  \n",
            "  inflating: CovidDataset/Train/Normal/IM-0667-0001.jpeg  \n",
            "  inflating: CovidDataset/Train/Normal/IM-0551-0001-0002.jpeg  \n",
            "  inflating: CovidDataset/Train/Normal/IM-0176-0001.jpeg  \n",
            "  inflating: CovidDataset/Train/Covid/lancet-case2b.jpg  \n",
            "  inflating: CovidDataset/Train/Normal/IM-0713-0001.jpeg  \n",
            "  inflating: CovidDataset/Train/Covid/all14238-fig-0001-m-c.jpg  \n",
            "  inflating: CovidDataset/Val/Covid/covid-19-pneumonia-14-PA.png  \n",
            "  inflating: CovidDataset/Val/Normal/NORMAL2-IM-0851-0001-0001.jpeg  \n",
            "  inflating: CovidDataset/Train/Normal/NORMAL2-IM-1154-0001-0002.jpeg  \n",
            "  inflating: CovidDataset/Train/Normal/IM-0619-0001.jpeg  \n",
            "  inflating: CovidDataset/Val/Normal/NORMAL2-IM-0441-0001.jpeg  \n",
            "  inflating: CovidDataset/Val/Normal/NORMAL2-IM-0765-0001.jpeg  \n",
            "  inflating: CovidDataset/Train/Normal/IM-0172-0001.jpeg  \n",
            "  inflating: CovidDataset/Train/Normal/IM-0551-0001-0001.jpeg  \n",
            "  inflating: CovidDataset/Train/Covid/gr1_lrg-b.jpg  \n",
            "  inflating: CovidDataset/Train/Covid/1-s2.0-S0929664620300449-gr2_lrg-b.jpg  \n",
            "  inflating: CovidDataset/Train/Normal/IM-0514-0001.jpeg  \n",
            "  inflating: CovidDataset/Train/Covid/covid-19-pneumonia-20.jpg  \n",
            "  inflating: CovidDataset/Train/Normal/IM-0544-0001.jpeg  \n",
            "  inflating: CovidDataset/Val/Normal/NORMAL2-IM-1022-0001.jpeg  \n",
            "  inflating: CovidDataset/Train/Normal/NORMAL2-IM-0935-0001.jpeg  \n",
            "  inflating: CovidDataset/Train/Covid/covid-19-pneumonia-22-day1-pa.png  \n",
            "  inflating: CovidDataset/Train/Normal/NORMAL2-IM-1288-0001.jpeg  \n",
            "  inflating: CovidDataset/Train/Covid/16669_1_1.jpeg  \n",
            "  inflating: CovidDataset/Train/Covid/nejmoa2001191_f4.jpeg  \n",
            "  inflating: CovidDataset/Val/Normal/NORMAL2-IM-0462-0001.jpeg  \n",
            "  inflating: CovidDataset/Val/Normal/NORMAL2-IM-0894-0001.jpeg  \n",
            "  inflating: CovidDataset/Train/Covid/nejmc2001573_f1b.jpeg  \n",
            "  inflating: CovidDataset/Train/Normal/NORMAL2-IM-1094-0001-0001.jpeg  \n",
            "  inflating: CovidDataset/Train/Normal/IM-0543-0001-0002.jpeg  \n",
            "  inflating: CovidDataset/Train/Covid/16669_3_1.jpeg  \n",
            "  inflating: CovidDataset/Train/Covid/covid-19-pneumonia-58-day-7.jpg  \n",
            "  inflating: CovidDataset/Train/Normal/IM-0536-0001.jpeg  \n",
            "  inflating: CovidDataset/Train/Normal/NORMAL2-IM-1214-0001.jpeg  \n",
            "  inflating: CovidDataset/Train/Covid/AR-2.jpg  \n",
            "  inflating: CovidDataset/Train/Covid/9fdd3c3032296fd04d2cad5d9070d4_jumbo.jpeg  \n",
            "  inflating: CovidDataset/Train/Covid/1B734A89-A1BF-49A8-A1D3-66FAFA4FAC5D.jpeg  \n",
            "  inflating: CovidDataset/Train/Normal/IM-0156-0001.jpeg  \n",
            "  inflating: CovidDataset/Train/Normal/NORMAL2-IM-1111-0001.jpeg  \n",
            "  inflating: CovidDataset/Train/Covid/FE9F9A5D-2830-46F9-851B-1FF4534959BE.jpeg  \n",
            "  inflating: CovidDataset/Train/Normal/IM-0429-0001.jpeg  \n",
            "  inflating: CovidDataset/Train/Covid/covid-19-pneumonia-44-day-0.jpeg  \n",
            "  inflating: CovidDataset/Val/Normal/NORMAL2-IM-0869-0001.jpeg  \n",
            "  inflating: CovidDataset/Train/Covid/figure1-5e75d0940b71e1b702629659-98-right.jpeg  \n",
            "  inflating: CovidDataset/Train/Covid/03BF7561-A9BA-4C3C-B8A0-D3E585F73F3C.jpeg  \n",
            "  inflating: CovidDataset/Train/Covid/ciaa199.pdf-001-c.png  \n",
            "  inflating: CovidDataset/Train/Covid/extubation-4.jpg  \n",
            "  inflating: CovidDataset/Train/Normal/IM-0556-0001.jpeg  \n",
            "  inflating: CovidDataset/Train/Covid/1.CXRCTThoraximagesofCOVID-19fromSingapore.pdf-003-fig4a.png  \n",
            "  inflating: CovidDataset/Train/Covid/covid-19-pneumonia-19.jpg  \n",
            "  inflating: CovidDataset/Train/Normal/IM-0392-0001.jpeg  \n",
            "  inflating: CovidDataset/Train/Normal/IM-0530-0001.jpeg  \n",
            "  inflating: CovidDataset/Train/Normal/IM-0261-0001.jpeg  \n",
            "  inflating: CovidDataset/Train/Covid/1312A392-67A3-4EBF-9319-810CF6DA5EF6.jpeg  \n",
            "  inflating: CovidDataset/Train/Normal/IM-0525-0001.jpeg  \n",
            "  inflating: CovidDataset/Train/Covid/lancet-case2a.jpg  \n",
            "  inflating: CovidDataset/Train/Covid/ciaa199.pdf-001-b.png  \n",
            "  inflating: CovidDataset/Train/Normal/NORMAL2-IM-0941-0001.jpeg  \n",
            "  inflating: CovidDataset/Train/Normal/IM-0488-0001.jpeg  \n",
            "  inflating: CovidDataset/Train/Covid/nejmoa2001191_f3-PA.jpeg  \n",
            "  inflating: CovidDataset/Train/Normal/IM-0447-0001.jpeg  \n",
            "  inflating: CovidDataset/Train/Covid/2966893D-5DDF-4B68-9E2B-4979D5956C8E.jpeg  \n",
            "  inflating: CovidDataset/Train/Covid/ryct.2020200028.fig1a.jpeg  \n",
            "  inflating: CovidDataset/Train/Normal/IM-0688-0001.jpeg  \n",
            "  inflating: CovidDataset/Train/Covid/16660_3_1.jpg  \n",
            "  inflating: CovidDataset/Val/Normal/NORMAL2-IM-1045-0001.jpeg  \n",
            "  inflating: CovidDataset/Train/Normal/NORMAL2-IM-0978-0001.jpeg  \n",
            "  inflating: CovidDataset/Train/Covid/2-chest-filmc.jpg  \n",
            "  inflating: CovidDataset/Val/Normal/NORMAL2-IM-0678-0001.jpeg  \n",
            "  inflating: CovidDataset/Train/Normal/NORMAL2-IM-0573-0001.jpeg  \n",
            "  inflating: CovidDataset/Train/Normal/IM-0365-0001.jpeg  \n",
            "  inflating: CovidDataset/Train/Normal/IM-0300-0001.jpeg  \n",
            "  inflating: CovidDataset/Train/Normal/IM-0242-0001.jpeg  \n",
            "  inflating: CovidDataset/Train/Covid/F4341CE7-73C9-45C6-99C8-8567A5484B63.jpeg  \n",
            "  inflating: CovidDataset/Train/Normal/NORMAL2-IM-1019-0001.jpeg  \n",
            "  inflating: CovidDataset/Train/Covid/01E392EE-69F9-4E33-BFCE-E5C968654078.jpeg  \n",
            "  inflating: CovidDataset/Train/Normal/IM-0648-0001.jpeg  \n",
            "  inflating: CovidDataset/Val/Normal/NORMAL2-IM-0408-0001.jpeg  \n",
            "  inflating: CovidDataset/Train/Covid/yxppt-2020-02-19_00-51-27_287214-day8.jpg  \n",
            "  inflating: CovidDataset/Train/Normal/IM-0635-0001.jpeg  \n",
            "  inflating: CovidDataset/Train/Covid/radiol.2020200490.fig3.jpeg  \n",
            "  inflating: CovidDataset/Val/Normal/NORMAL2-IM-1060-0001.jpeg  \n"
          ],
          "name": "stdout"
        }
      ]
    },
    {
      "cell_type": "code",
      "metadata": {
        "id": "CUrG0Tk7l5cq"
      },
      "source": [
        "import numpy as np\n",
        "import matplotlib.pyplot as plt\n",
        "import keras\n",
        "from keras.layers import *\n",
        "from keras.models import *\n",
        "from keras.preprocessing import image"
      ],
      "execution_count": 3,
      "outputs": []
    },
    {
      "cell_type": "code",
      "metadata": {
        "id": "_ilrHSBrl5sB"
      },
      "source": [
        "model = Sequential()\n",
        "model.add(Conv2D(32, kernel_size=(3, 3), activation='relu', input_shape=(224, 224, 3)))\n",
        "model.add(Conv2D(64, (3,3), activation='relu'))\n",
        "model.add(MaxPooling2D(pool_size=(2,2)))\n",
        "model.add(Dropout(0.25))\n",
        "\n",
        "model.add(Conv2D(128, (3, 3), activation='relu'))\n",
        "model.add(MaxPooling2D(pool_size=(2,2)))\n",
        "model.add(Dropout(0.25))\n",
        "\n",
        "model.add(Flatten())\n",
        "model.add(Dense(64, activation='relu'))\n",
        "model.add(Dropout(0.5))\n",
        "model.add(Dense(1, activation='sigmoid'))\n",
        "\n",
        "\n",
        "model.compile(loss=keras.losses.binary_crossentropy, optimizer='adam', metrics=['accuracy'])"
      ],
      "execution_count": 4,
      "outputs": []
    },
    {
      "cell_type": "code",
      "metadata": {
        "colab": {
          "base_uri": "https://localhost:8080/"
        },
        "id": "CRBoUr56l50i",
        "outputId": "dbe49572-49ff-40c4-8156-c0c1c2519fac"
      },
      "source": [
        "model.summary()"
      ],
      "execution_count": 5,
      "outputs": [
        {
          "output_type": "stream",
          "text": [
            "Model: \"sequential\"\n",
            "_________________________________________________________________\n",
            "Layer (type)                 Output Shape              Param #   \n",
            "=================================================================\n",
            "conv2d (Conv2D)              (None, 222, 222, 32)      896       \n",
            "_________________________________________________________________\n",
            "conv2d_1 (Conv2D)            (None, 220, 220, 64)      18496     \n",
            "_________________________________________________________________\n",
            "max_pooling2d (MaxPooling2D) (None, 110, 110, 64)      0         \n",
            "_________________________________________________________________\n",
            "dropout (Dropout)            (None, 110, 110, 64)      0         \n",
            "_________________________________________________________________\n",
            "conv2d_2 (Conv2D)            (None, 108, 108, 128)     73856     \n",
            "_________________________________________________________________\n",
            "max_pooling2d_1 (MaxPooling2 (None, 54, 54, 128)       0         \n",
            "_________________________________________________________________\n",
            "dropout_1 (Dropout)          (None, 54, 54, 128)       0         \n",
            "_________________________________________________________________\n",
            "flatten (Flatten)            (None, 373248)            0         \n",
            "_________________________________________________________________\n",
            "dense (Dense)                (None, 64)                23887936  \n",
            "_________________________________________________________________\n",
            "dropout_2 (Dropout)          (None, 64)                0         \n",
            "_________________________________________________________________\n",
            "dense_1 (Dense)              (None, 1)                 65        \n",
            "=================================================================\n",
            "Total params: 23,981,249\n",
            "Trainable params: 23,981,249\n",
            "Non-trainable params: 0\n",
            "_________________________________________________________________\n"
          ],
          "name": "stdout"
        }
      ]
    },
    {
      "cell_type": "code",
      "metadata": {
        "id": "jcngxM5UmLgV"
      },
      "source": [
        "train_datagen = image.ImageDataGenerator(\n",
        "    rescale = 1./255,\n",
        "    shear_range = 0.2, \n",
        "    zoom_range = 0.2,\n",
        "    horizontal_flip = True,\n",
        ")\n",
        "\n",
        "test_dataset = image.ImageDataGenerator(rescale=1./255)"
      ],
      "execution_count": 11,
      "outputs": []
    },
    {
      "cell_type": "code",
      "metadata": {
        "colab": {
          "base_uri": "https://localhost:8080/"
        },
        "id": "6ARv9OQnmLjs",
        "outputId": "383ef0db-c014-4f90-db39-4d0242f701a6"
      },
      "source": [
        "train_generator = train_datagen.flow_from_directory(\n",
        "    'CovidDataset/Train',\n",
        "    target_size = (224, 224),\n",
        "    batch_size = 32,\n",
        "    class_mode = 'binary'\n",
        ")"
      ],
      "execution_count": 12,
      "outputs": [
        {
          "output_type": "stream",
          "text": [
            "Found 224 images belonging to 2 classes.\n"
          ],
          "name": "stdout"
        }
      ]
    },
    {
      "cell_type": "code",
      "metadata": {
        "colab": {
          "base_uri": "https://localhost:8080/"
        },
        "id": "LgmXNGugmLsE",
        "outputId": "f2bb97b9-257b-4b7d-ae5d-025ffe5e8204"
      },
      "source": [
        "train_generator.class_indices"
      ],
      "execution_count": 13,
      "outputs": [
        {
          "output_type": "execute_result",
          "data": {
            "text/plain": [
              "{'Covid': 0, 'Normal': 1}"
            ]
          },
          "metadata": {
            "tags": []
          },
          "execution_count": 13
        }
      ]
    },
    {
      "cell_type": "code",
      "metadata": {
        "colab": {
          "base_uri": "https://localhost:8080/"
        },
        "id": "8AZFv7gBmLvO",
        "outputId": "83c82d8c-9dda-4a2e-a739-8adf11db738f"
      },
      "source": [
        "validation_generator = test_dataset.flow_from_directory(\n",
        "    'CovidDataset/Val',\n",
        "    target_size = (224, 224),\n",
        "    batch_size = 32,\n",
        "    class_mode = 'binary'\n",
        ")"
      ],
      "execution_count": 14,
      "outputs": [
        {
          "output_type": "stream",
          "text": [
            "Found 60 images belonging to 2 classes.\n"
          ],
          "name": "stdout"
        }
      ]
    },
    {
      "cell_type": "code",
      "metadata": {
        "colab": {
          "base_uri": "https://localhost:8080/"
        },
        "id": "HqJjqaL2mLx8",
        "outputId": "c418f054-73ab-49a0-d2ff-ff2abe9fcd9a"
      },
      "source": [
        "hist = model.fit_generator(\n",
        "    train_generator,\n",
        "    steps_per_epoch=5,\n",
        "    epochs = 100,\n",
        "    validation_data = validation_generator,\n",
        "    validation_steps=2\n",
        ")"
      ],
      "execution_count": 19,
      "outputs": [
        {
          "output_type": "stream",
          "text": [
            "/usr/local/lib/python3.7/dist-packages/tensorflow/python/keras/engine/training.py:1844: UserWarning: `Model.fit_generator` is deprecated and will be removed in a future version. Please use `Model.fit`, which supports generators.\n",
            "  warnings.warn('`Model.fit_generator` is deprecated and '\n"
          ],
          "name": "stderr"
        },
        {
          "output_type": "stream",
          "text": [
            "Epoch 1/100\n",
            "5/5 [==============================] - 8s 2s/step - loss: 0.0669 - accuracy: 0.9688 - val_loss: 0.0618 - val_accuracy: 0.9667\n",
            "Epoch 2/100\n",
            "5/5 [==============================] - 7s 2s/step - loss: 0.0801 - accuracy: 0.9875 - val_loss: 0.0655 - val_accuracy: 0.9500\n",
            "Epoch 3/100\n",
            "5/5 [==============================] - 7s 1s/step - loss: 0.0530 - accuracy: 0.9937 - val_loss: 0.0618 - val_accuracy: 0.9667\n",
            "Epoch 4/100\n",
            "5/5 [==============================] - 7s 2s/step - loss: 0.0698 - accuracy: 0.9750 - val_loss: 0.0998 - val_accuracy: 0.9667\n",
            "Epoch 5/100\n",
            "5/5 [==============================] - 7s 2s/step - loss: 0.0627 - accuracy: 0.9688 - val_loss: 0.0937 - val_accuracy: 0.9667\n",
            "Epoch 6/100\n",
            "5/5 [==============================] - 7s 2s/step - loss: 0.0394 - accuracy: 0.9875 - val_loss: 0.1341 - val_accuracy: 0.9667\n",
            "Epoch 7/100\n",
            "5/5 [==============================] - 7s 2s/step - loss: 0.0911 - accuracy: 0.9625 - val_loss: 0.0898 - val_accuracy: 0.9500\n",
            "Epoch 8/100\n",
            "5/5 [==============================] - 7s 1s/step - loss: 0.0661 - accuracy: 0.9750 - val_loss: 0.1361 - val_accuracy: 0.9667\n",
            "Epoch 9/100\n",
            "5/5 [==============================] - 7s 2s/step - loss: 0.0532 - accuracy: 0.9875 - val_loss: 0.1257 - val_accuracy: 0.9667\n",
            "Epoch 10/100\n",
            "5/5 [==============================] - 7s 2s/step - loss: 0.0326 - accuracy: 0.9875 - val_loss: 0.1099 - val_accuracy: 0.9667\n",
            "Epoch 11/100\n",
            "5/5 [==============================] - 7s 2s/step - loss: 0.0634 - accuracy: 0.9812 - val_loss: 0.0950 - val_accuracy: 0.9667\n",
            "Epoch 12/100\n",
            "5/5 [==============================] - 7s 2s/step - loss: 0.0173 - accuracy: 0.9937 - val_loss: 0.0351 - val_accuracy: 1.0000\n",
            "Epoch 13/100\n",
            "5/5 [==============================] - 7s 1s/step - loss: 0.1119 - accuracy: 0.9625 - val_loss: 0.0809 - val_accuracy: 0.9667\n",
            "Epoch 14/100\n",
            "5/5 [==============================] - 7s 2s/step - loss: 0.0658 - accuracy: 0.9875 - val_loss: 0.1029 - val_accuracy: 0.9667\n",
            "Epoch 15/100\n",
            "5/5 [==============================] - 7s 2s/step - loss: 0.0572 - accuracy: 0.9937 - val_loss: 0.0906 - val_accuracy: 0.9500\n",
            "Epoch 16/100\n",
            "5/5 [==============================] - 7s 2s/step - loss: 0.0437 - accuracy: 0.9875 - val_loss: 0.1005 - val_accuracy: 0.9500\n",
            "Epoch 17/100\n",
            "5/5 [==============================] - 7s 2s/step - loss: 0.0861 - accuracy: 0.9750 - val_loss: 0.0823 - val_accuracy: 0.9667\n",
            "Epoch 18/100\n",
            "5/5 [==============================] - 7s 1s/step - loss: 0.0879 - accuracy: 0.9625 - val_loss: 0.1854 - val_accuracy: 0.9500\n",
            "Epoch 19/100\n",
            "5/5 [==============================] - 7s 2s/step - loss: 0.2618 - accuracy: 0.9250 - val_loss: 0.1078 - val_accuracy: 0.9500\n",
            "Epoch 20/100\n",
            "5/5 [==============================] - 7s 2s/step - loss: 0.1315 - accuracy: 0.9563 - val_loss: 0.1015 - val_accuracy: 0.9500\n",
            "Epoch 21/100\n",
            "5/5 [==============================] - 7s 2s/step - loss: 0.0799 - accuracy: 0.9875 - val_loss: 0.0973 - val_accuracy: 0.9667\n",
            "Epoch 22/100\n",
            "5/5 [==============================] - 7s 2s/step - loss: 0.0808 - accuracy: 0.9688 - val_loss: 0.1980 - val_accuracy: 0.9667\n",
            "Epoch 23/100\n",
            "5/5 [==============================] - 7s 2s/step - loss: 0.1398 - accuracy: 0.9375 - val_loss: 0.1008 - val_accuracy: 0.9500\n",
            "Epoch 24/100\n",
            "5/5 [==============================] - 7s 2s/step - loss: 0.1067 - accuracy: 0.9438 - val_loss: 0.1220 - val_accuracy: 0.9500\n",
            "Epoch 25/100\n",
            "5/5 [==============================] - 7s 2s/step - loss: 0.1422 - accuracy: 0.9563 - val_loss: 0.1430 - val_accuracy: 0.9500\n",
            "Epoch 26/100\n",
            "5/5 [==============================] - 7s 2s/step - loss: 0.0411 - accuracy: 0.9875 - val_loss: 0.1548 - val_accuracy: 0.9500\n",
            "Epoch 27/100\n",
            "5/5 [==============================] - 7s 1s/step - loss: 0.0787 - accuracy: 0.9688 - val_loss: 0.1576 - val_accuracy: 0.9667\n",
            "Epoch 28/100\n",
            "5/5 [==============================] - 7s 2s/step - loss: 0.0987 - accuracy: 0.9750 - val_loss: 0.1256 - val_accuracy: 0.9500\n",
            "Epoch 29/100\n",
            "5/5 [==============================] - 7s 2s/step - loss: 0.0569 - accuracy: 0.9812 - val_loss: 0.1163 - val_accuracy: 0.9500\n",
            "Epoch 30/100\n",
            "5/5 [==============================] - 7s 2s/step - loss: 0.0684 - accuracy: 0.9875 - val_loss: 0.1465 - val_accuracy: 0.9667\n",
            "Epoch 31/100\n",
            "5/5 [==============================] - 7s 2s/step - loss: 0.0523 - accuracy: 0.9875 - val_loss: 0.1321 - val_accuracy: 0.9667\n",
            "Epoch 32/100\n",
            "5/5 [==============================] - 7s 2s/step - loss: 0.0464 - accuracy: 0.9812 - val_loss: 0.1672 - val_accuracy: 0.9667\n",
            "Epoch 33/100\n",
            "5/5 [==============================] - 7s 2s/step - loss: 0.0383 - accuracy: 0.9875 - val_loss: 0.2138 - val_accuracy: 0.9500\n",
            "Epoch 34/100\n",
            "5/5 [==============================] - 7s 1s/step - loss: 0.0547 - accuracy: 0.9875 - val_loss: 0.1915 - val_accuracy: 0.9500\n",
            "Epoch 35/100\n",
            "5/5 [==============================] - 7s 2s/step - loss: 0.0545 - accuracy: 0.9937 - val_loss: 0.1862 - val_accuracy: 0.9667\n",
            "Epoch 36/100\n",
            "5/5 [==============================] - 7s 2s/step - loss: 0.0482 - accuracy: 0.9750 - val_loss: 0.1910 - val_accuracy: 0.9667\n",
            "Epoch 37/100\n",
            "5/5 [==============================] - 7s 2s/step - loss: 0.0441 - accuracy: 0.9875 - val_loss: 0.1930 - val_accuracy: 0.9667\n",
            "Epoch 38/100\n",
            "5/5 [==============================] - 7s 2s/step - loss: 0.0345 - accuracy: 0.9875 - val_loss: 0.1822 - val_accuracy: 0.9500\n",
            "Epoch 39/100\n",
            "5/5 [==============================] - 7s 1s/step - loss: 0.0623 - accuracy: 0.9812 - val_loss: 0.1704 - val_accuracy: 0.9500\n",
            "Epoch 40/100\n",
            "5/5 [==============================] - 7s 2s/step - loss: 0.0210 - accuracy: 0.9937 - val_loss: 0.1717 - val_accuracy: 0.9500\n",
            "Epoch 41/100\n",
            "5/5 [==============================] - 7s 1s/step - loss: 0.0243 - accuracy: 1.0000 - val_loss: 0.1742 - val_accuracy: 0.9500\n",
            "Epoch 42/100\n",
            "5/5 [==============================] - 7s 2s/step - loss: 0.0154 - accuracy: 1.0000 - val_loss: 0.1590 - val_accuracy: 0.9500\n",
            "Epoch 43/100\n",
            "5/5 [==============================] - 7s 1s/step - loss: 0.0719 - accuracy: 0.9688 - val_loss: 0.1605 - val_accuracy: 0.9500\n",
            "Epoch 44/100\n",
            "5/5 [==============================] - 7s 2s/step - loss: 0.0948 - accuracy: 0.9563 - val_loss: 0.1377 - val_accuracy: 0.9500\n",
            "Epoch 45/100\n",
            "5/5 [==============================] - 7s 2s/step - loss: 0.0661 - accuracy: 0.9688 - val_loss: 0.1572 - val_accuracy: 0.9333\n",
            "Epoch 46/100\n",
            "5/5 [==============================] - 7s 2s/step - loss: 0.1023 - accuracy: 0.9625 - val_loss: 0.1660 - val_accuracy: 0.9667\n",
            "Epoch 47/100\n",
            "5/5 [==============================] - 7s 2s/step - loss: 0.1126 - accuracy: 0.9688 - val_loss: 0.1082 - val_accuracy: 0.9333\n",
            "Epoch 48/100\n",
            "5/5 [==============================] - 7s 2s/step - loss: 0.0500 - accuracy: 0.9875 - val_loss: 0.1069 - val_accuracy: 0.9333\n",
            "Epoch 49/100\n",
            "5/5 [==============================] - 7s 2s/step - loss: 0.0445 - accuracy: 0.9812 - val_loss: 0.1082 - val_accuracy: 0.9667\n",
            "Epoch 50/100\n",
            "5/5 [==============================] - 7s 2s/step - loss: 0.0446 - accuracy: 0.9875 - val_loss: 0.1505 - val_accuracy: 0.9667\n",
            "Epoch 51/100\n",
            "5/5 [==============================] - 7s 1s/step - loss: 0.0405 - accuracy: 0.9750 - val_loss: 0.1194 - val_accuracy: 0.9667\n",
            "Epoch 52/100\n",
            "5/5 [==============================] - 7s 2s/step - loss: 0.0622 - accuracy: 0.9875 - val_loss: 0.0871 - val_accuracy: 0.9667\n",
            "Epoch 53/100\n",
            "5/5 [==============================] - 7s 2s/step - loss: 0.0663 - accuracy: 0.9812 - val_loss: 0.0485 - val_accuracy: 0.9667\n",
            "Epoch 54/100\n",
            "5/5 [==============================] - 7s 2s/step - loss: 0.0203 - accuracy: 1.0000 - val_loss: 0.0937 - val_accuracy: 0.9667\n",
            "Epoch 55/100\n",
            "5/5 [==============================] - 7s 1s/step - loss: 0.0844 - accuracy: 0.9812 - val_loss: 0.0901 - val_accuracy: 0.9500\n",
            "Epoch 56/100\n",
            "5/5 [==============================] - 7s 2s/step - loss: 0.0309 - accuracy: 0.9937 - val_loss: 0.0822 - val_accuracy: 0.9500\n",
            "Epoch 57/100\n",
            "5/5 [==============================] - 7s 2s/step - loss: 0.0235 - accuracy: 1.0000 - val_loss: 0.0595 - val_accuracy: 0.9833\n",
            "Epoch 58/100\n",
            "5/5 [==============================] - 7s 2s/step - loss: 0.0245 - accuracy: 1.0000 - val_loss: 0.0597 - val_accuracy: 0.9667\n",
            "Epoch 59/100\n",
            "5/5 [==============================] - 7s 2s/step - loss: 0.0330 - accuracy: 0.9875 - val_loss: 0.1456 - val_accuracy: 0.9667\n",
            "Epoch 60/100\n",
            "5/5 [==============================] - 7s 2s/step - loss: 0.0250 - accuracy: 0.9937 - val_loss: 0.1769 - val_accuracy: 0.9667\n",
            "Epoch 61/100\n",
            "5/5 [==============================] - 7s 2s/step - loss: 0.0434 - accuracy: 0.9875 - val_loss: 0.1200 - val_accuracy: 0.9667\n",
            "Epoch 62/100\n",
            "5/5 [==============================] - 7s 1s/step - loss: 0.0114 - accuracy: 0.9937 - val_loss: 0.0900 - val_accuracy: 0.9667\n",
            "Epoch 63/100\n",
            "5/5 [==============================] - 7s 2s/step - loss: 0.0302 - accuracy: 0.9875 - val_loss: 0.0654 - val_accuracy: 0.9833\n",
            "Epoch 64/100\n",
            "5/5 [==============================] - 7s 2s/step - loss: 0.0699 - accuracy: 0.9812 - val_loss: 0.1379 - val_accuracy: 0.9667\n",
            "Epoch 65/100\n",
            "5/5 [==============================] - 7s 2s/step - loss: 0.1212 - accuracy: 0.9563 - val_loss: 0.1228 - val_accuracy: 0.9667\n",
            "Epoch 66/100\n",
            "5/5 [==============================] - 7s 2s/step - loss: 0.0908 - accuracy: 0.9625 - val_loss: 0.1099 - val_accuracy: 0.9667\n",
            "Epoch 67/100\n",
            "5/5 [==============================] - 7s 1s/step - loss: 0.0834 - accuracy: 0.9750 - val_loss: 0.1206 - val_accuracy: 0.9667\n",
            "Epoch 68/100\n",
            "5/5 [==============================] - 7s 2s/step - loss: 0.0483 - accuracy: 0.9875 - val_loss: 0.1298 - val_accuracy: 0.9667\n",
            "Epoch 69/100\n",
            "5/5 [==============================] - 7s 2s/step - loss: 0.0374 - accuracy: 0.9812 - val_loss: 0.1387 - val_accuracy: 0.9667\n",
            "Epoch 70/100\n",
            "5/5 [==============================] - 7s 2s/step - loss: 0.0640 - accuracy: 0.9812 - val_loss: 0.1466 - val_accuracy: 0.9667\n",
            "Epoch 71/100\n",
            "5/5 [==============================] - 7s 2s/step - loss: 0.0278 - accuracy: 1.0000 - val_loss: 0.1377 - val_accuracy: 0.9667\n",
            "Epoch 72/100\n",
            "5/5 [==============================] - 7s 1s/step - loss: 0.0301 - accuracy: 0.9937 - val_loss: 0.1042 - val_accuracy: 0.9667\n",
            "Epoch 73/100\n",
            "5/5 [==============================] - 7s 2s/step - loss: 0.0356 - accuracy: 0.9937 - val_loss: 0.1586 - val_accuracy: 0.9667\n",
            "Epoch 74/100\n",
            "5/5 [==============================] - 7s 2s/step - loss: 0.0219 - accuracy: 0.9937 - val_loss: 0.1755 - val_accuracy: 0.9667\n",
            "Epoch 75/100\n",
            "5/5 [==============================] - 7s 2s/step - loss: 0.0178 - accuracy: 1.0000 - val_loss: 0.1632 - val_accuracy: 0.9667\n",
            "Epoch 76/100\n",
            "5/5 [==============================] - 7s 2s/step - loss: 0.0165 - accuracy: 0.9937 - val_loss: 0.1281 - val_accuracy: 0.9667\n",
            "Epoch 77/100\n",
            "5/5 [==============================] - 7s 2s/step - loss: 0.0120 - accuracy: 0.9875 - val_loss: 0.0850 - val_accuracy: 0.9667\n",
            "Epoch 78/100\n",
            "5/5 [==============================] - 7s 1s/step - loss: 0.0091 - accuracy: 1.0000 - val_loss: 0.0937 - val_accuracy: 0.9667\n",
            "Epoch 79/100\n",
            "5/5 [==============================] - 7s 2s/step - loss: 0.0110 - accuracy: 0.9937 - val_loss: 0.1212 - val_accuracy: 0.9667\n",
            "Epoch 80/100\n",
            "5/5 [==============================] - 7s 2s/step - loss: 0.0318 - accuracy: 0.9937 - val_loss: 0.1256 - val_accuracy: 0.9667\n",
            "Epoch 81/100\n",
            "5/5 [==============================] - 7s 2s/step - loss: 0.0612 - accuracy: 0.9750 - val_loss: 0.0496 - val_accuracy: 0.9667\n",
            "Epoch 82/100\n",
            "5/5 [==============================] - 7s 1s/step - loss: 0.0197 - accuracy: 0.9937 - val_loss: 0.0809 - val_accuracy: 0.9667\n",
            "Epoch 83/100\n",
            "5/5 [==============================] - 7s 1s/step - loss: 0.0256 - accuracy: 0.9937 - val_loss: 0.1078 - val_accuracy: 0.9500\n",
            "Epoch 84/100\n",
            "5/5 [==============================] - 7s 2s/step - loss: 0.0276 - accuracy: 0.9875 - val_loss: 0.1983 - val_accuracy: 0.9667\n",
            "Epoch 85/100\n",
            "5/5 [==============================] - 7s 1s/step - loss: 0.0092 - accuracy: 1.0000 - val_loss: 0.1932 - val_accuracy: 0.9667\n",
            "Epoch 86/100\n",
            "5/5 [==============================] - 7s 1s/step - loss: 0.0168 - accuracy: 0.9937 - val_loss: 0.1943 - val_accuracy: 0.9667\n",
            "Epoch 87/100\n",
            "5/5 [==============================] - 7s 2s/step - loss: 0.0591 - accuracy: 0.9750 - val_loss: 0.0736 - val_accuracy: 0.9667\n",
            "Epoch 88/100\n",
            "5/5 [==============================] - 7s 1s/step - loss: 0.0313 - accuracy: 0.9875 - val_loss: 0.0787 - val_accuracy: 0.9667\n",
            "Epoch 89/100\n",
            "5/5 [==============================] - 7s 2s/step - loss: 0.0184 - accuracy: 0.9875 - val_loss: 0.1831 - val_accuracy: 0.9667\n",
            "Epoch 90/100\n",
            "5/5 [==============================] - 7s 2s/step - loss: 0.0206 - accuracy: 0.9937 - val_loss: 0.2909 - val_accuracy: 0.9667\n",
            "Epoch 91/100\n",
            "5/5 [==============================] - 7s 2s/step - loss: 0.0679 - accuracy: 0.9688 - val_loss: 0.1488 - val_accuracy: 0.9667\n",
            "Epoch 92/100\n",
            "5/5 [==============================] - 7s 2s/step - loss: 0.0304 - accuracy: 0.9812 - val_loss: 0.0525 - val_accuracy: 0.9667\n",
            "Epoch 93/100\n",
            "5/5 [==============================] - 7s 1s/step - loss: 0.0357 - accuracy: 0.9812 - val_loss: 0.1007 - val_accuracy: 0.9500\n",
            "Epoch 94/100\n",
            "5/5 [==============================] - 7s 1s/step - loss: 0.0591 - accuracy: 0.9812 - val_loss: 0.1465 - val_accuracy: 0.9667\n",
            "Epoch 95/100\n",
            "5/5 [==============================] - 7s 1s/step - loss: 0.0541 - accuracy: 0.9875 - val_loss: 0.1287 - val_accuracy: 0.9667\n",
            "Epoch 96/100\n",
            "5/5 [==============================] - 7s 2s/step - loss: 0.0674 - accuracy: 0.9812 - val_loss: 0.1717 - val_accuracy: 0.9667\n",
            "Epoch 97/100\n",
            "5/5 [==============================] - 7s 1s/step - loss: 0.0895 - accuracy: 0.9688 - val_loss: 0.1416 - val_accuracy: 0.9667\n",
            "Epoch 98/100\n",
            "5/5 [==============================] - 7s 2s/step - loss: 0.0759 - accuracy: 0.9812 - val_loss: 0.1700 - val_accuracy: 0.9500\n",
            "Epoch 99/100\n",
            "5/5 [==============================] - 7s 2s/step - loss: 0.0329 - accuracy: 0.9937 - val_loss: 0.1373 - val_accuracy: 0.9500\n",
            "Epoch 100/100\n",
            "5/5 [==============================] - 7s 2s/step - loss: 0.0460 - accuracy: 0.9812 - val_loss: 0.1567 - val_accuracy: 0.9500\n"
          ],
          "name": "stdout"
        }
      ]
    },
    {
      "cell_type": "code",
      "metadata": {
        "id": "n7DV8J_tmL0q"
      },
      "source": [
        "import tensorflow as tf"
      ],
      "execution_count": 20,
      "outputs": []
    },
    {
      "cell_type": "code",
      "metadata": {
        "colab": {
          "base_uri": "https://localhost:8080/"
        },
        "id": "pDTkN18FmL4C",
        "outputId": "56f3f0ce-00fe-498d-b061-7c5245128267"
      },
      "source": [
        "tf.keras.models.save_model(model, 'my_model2.hdfs')"
      ],
      "execution_count": 22,
      "outputs": [
        {
          "output_type": "stream",
          "text": [
            "INFO:tensorflow:Assets written to: my_model2.hdfs/assets\n"
          ],
          "name": "stdout"
        }
      ]
    },
    {
      "cell_type": "code",
      "metadata": {
        "colab": {
          "base_uri": "https://localhost:8080/",
          "height": 1000
        },
        "id": "wsPD2Ul0uuCE",
        "outputId": "89cd63a2-6790-4db3-d374-ab1c2ed5e3a0"
      },
      "source": [
        "!pip install streamlit"
      ],
      "execution_count": 23,
      "outputs": [
        {
          "output_type": "stream",
          "text": [
            "Collecting streamlit\n",
            "\u001b[?25l  Downloading https://files.pythonhosted.org/packages/04/11/57097e14f72a2d1b2a1bbe86c2a8bc375661bfd5c30b5e8cee7c2fad9a44/streamlit-0.82.0-py2.py3-none-any.whl (8.2MB)\n",
            "\u001b[K     |████████████████████████████████| 8.2MB 13.7MB/s \n",
            "\u001b[?25hRequirement already satisfied: pillow>=6.2.0 in /usr/local/lib/python3.7/dist-packages (from streamlit) (7.1.2)\n",
            "Collecting base58\n",
            "  Downloading https://files.pythonhosted.org/packages/b8/a1/d9f565e9910c09fd325dc638765e8843a19fa696275c16cc08cf3b0a3c25/base58-2.1.0-py3-none-any.whl\n",
            "Collecting gitpython\n",
            "\u001b[?25l  Downloading https://files.pythonhosted.org/packages/27/da/6f6224fdfc47dab57881fe20c0d1bc3122be290198ba0bf26a953a045d92/GitPython-3.1.17-py3-none-any.whl (166kB)\n",
            "\u001b[K     |████████████████████████████████| 174kB 52.0MB/s \n",
            "\u001b[?25hRequirement already satisfied: packaging in /usr/local/lib/python3.7/dist-packages (from streamlit) (20.9)\n",
            "Collecting blinker\n",
            "\u001b[?25l  Downloading https://files.pythonhosted.org/packages/1b/51/e2a9f3b757eb802f61dc1f2b09c8c99f6eb01cf06416c0671253536517b6/blinker-1.4.tar.gz (111kB)\n",
            "\u001b[K     |████████████████████████████████| 112kB 56.6MB/s \n",
            "\u001b[?25hCollecting validators\n",
            "  Downloading https://files.pythonhosted.org/packages/db/2f/7fed3ee94ad665ad2c1de87f858f10a7785251ff75b4fd47987888d07ef1/validators-0.18.2-py3-none-any.whl\n",
            "Requirement already satisfied: astor in /usr/local/lib/python3.7/dist-packages (from streamlit) (0.8.1)\n",
            "Requirement already satisfied: cachetools>=4.0 in /usr/local/lib/python3.7/dist-packages (from streamlit) (4.2.2)\n",
            "Requirement already satisfied: tzlocal in /usr/local/lib/python3.7/dist-packages (from streamlit) (1.5.1)\n",
            "Requirement already satisfied: pandas>=0.21.0 in /usr/local/lib/python3.7/dist-packages (from streamlit) (1.1.5)\n",
            "Collecting watchdog; platform_system != \"Darwin\"\n",
            "\u001b[?25l  Downloading https://files.pythonhosted.org/packages/f2/5b/36b3b11e557830de6fc1dc06e9aa3ee274119b8cea9cc98175dbbf72cf87/watchdog-2.1.2-py3-none-manylinux2014_x86_64.whl (74kB)\n",
            "\u001b[K     |████████████████████████████████| 81kB 11.2MB/s \n",
            "\u001b[?25hRequirement already satisfied: numpy in /usr/local/lib/python3.7/dist-packages (from streamlit) (1.19.5)\n",
            "Requirement already satisfied: python-dateutil in /usr/local/lib/python3.7/dist-packages (from streamlit) (2.8.1)\n",
            "Requirement already satisfied: requests in /usr/local/lib/python3.7/dist-packages (from streamlit) (2.23.0)\n",
            "Requirement already satisfied: tornado>=5.0 in /usr/local/lib/python3.7/dist-packages (from streamlit) (5.1.1)\n",
            "Requirement already satisfied: altair>=3.2.0 in /usr/local/lib/python3.7/dist-packages (from streamlit) (4.1.0)\n",
            "Requirement already satisfied: protobuf!=3.11,>=3.6.0 in /usr/local/lib/python3.7/dist-packages (from streamlit) (3.12.4)\n",
            "Requirement already satisfied: toml in /usr/local/lib/python3.7/dist-packages (from streamlit) (0.10.2)\n",
            "Requirement already satisfied: pyarrow; python_version < \"3.9\" in /usr/local/lib/python3.7/dist-packages (from streamlit) (3.0.0)\n",
            "Collecting click<8.0,>=7.0\n",
            "\u001b[?25l  Downloading https://files.pythonhosted.org/packages/d2/3d/fa76db83bf75c4f8d338c2fd15c8d33fdd7ad23a9b5e57eb6c5de26b430e/click-7.1.2-py2.py3-none-any.whl (82kB)\n",
            "\u001b[K     |████████████████████████████████| 92kB 13.4MB/s \n",
            "\u001b[?25hCollecting pydeck>=0.1.dev5\n",
            "\u001b[?25l  Downloading https://files.pythonhosted.org/packages/d6/bc/f0e44828e4290367c869591d50d3671a4d0ee94926da6cb734b7b200308c/pydeck-0.6.2-py2.py3-none-any.whl (4.2MB)\n",
            "\u001b[K     |████████████████████████████████| 4.2MB 42.9MB/s \n",
            "\u001b[?25hCollecting gitdb<5,>=4.0.1\n",
            "\u001b[?25l  Downloading https://files.pythonhosted.org/packages/ea/e8/f414d1a4f0bbc668ed441f74f44c116d9816833a48bf81d22b697090dba8/gitdb-4.0.7-py3-none-any.whl (63kB)\n",
            "\u001b[K     |████████████████████████████████| 71kB 11.3MB/s \n",
            "\u001b[?25hRequirement already satisfied: typing-extensions>=3.7.4.0; python_version < \"3.8\" in /usr/local/lib/python3.7/dist-packages (from gitpython->streamlit) (3.7.4.3)\n",
            "Requirement already satisfied: pyparsing>=2.0.2 in /usr/local/lib/python3.7/dist-packages (from packaging->streamlit) (2.4.7)\n",
            "Requirement already satisfied: six>=1.4.0 in /usr/local/lib/python3.7/dist-packages (from validators->streamlit) (1.15.0)\n",
            "Requirement already satisfied: decorator>=3.4.0 in /usr/local/lib/python3.7/dist-packages (from validators->streamlit) (4.4.2)\n",
            "Requirement already satisfied: pytz in /usr/local/lib/python3.7/dist-packages (from tzlocal->streamlit) (2018.9)\n",
            "Requirement already satisfied: urllib3!=1.25.0,!=1.25.1,<1.26,>=1.21.1 in /usr/local/lib/python3.7/dist-packages (from requests->streamlit) (1.24.3)\n",
            "Requirement already satisfied: idna<3,>=2.5 in /usr/local/lib/python3.7/dist-packages (from requests->streamlit) (2.10)\n",
            "Requirement already satisfied: chardet<4,>=3.0.2 in /usr/local/lib/python3.7/dist-packages (from requests->streamlit) (3.0.4)\n",
            "Requirement already satisfied: certifi>=2017.4.17 in /usr/local/lib/python3.7/dist-packages (from requests->streamlit) (2020.12.5)\n",
            "Requirement already satisfied: jinja2 in /usr/local/lib/python3.7/dist-packages (from altair>=3.2.0->streamlit) (2.11.3)\n",
            "Requirement already satisfied: entrypoints in /usr/local/lib/python3.7/dist-packages (from altair>=3.2.0->streamlit) (0.3)\n",
            "Requirement already satisfied: toolz in /usr/local/lib/python3.7/dist-packages (from altair>=3.2.0->streamlit) (0.11.1)\n",
            "Requirement already satisfied: jsonschema in /usr/local/lib/python3.7/dist-packages (from altair>=3.2.0->streamlit) (2.6.0)\n",
            "Requirement already satisfied: setuptools in /usr/local/lib/python3.7/dist-packages (from protobuf!=3.11,>=3.6.0->streamlit) (56.1.0)\n",
            "Collecting ipykernel>=5.1.2; python_version >= \"3.4\"\n",
            "\u001b[?25l  Downloading https://files.pythonhosted.org/packages/90/6d/6c8fe4b658f77947d4244ce81f60230c4c8d1dc1a21ae83e63b269339178/ipykernel-5.5.5-py3-none-any.whl (120kB)\n",
            "\u001b[K     |████████████████████████████████| 122kB 58.8MB/s \n",
            "\u001b[?25hRequirement already satisfied: traitlets>=4.3.2 in /usr/local/lib/python3.7/dist-packages (from pydeck>=0.1.dev5->streamlit) (5.0.5)\n",
            "Requirement already satisfied: ipywidgets>=7.0.0 in /usr/local/lib/python3.7/dist-packages (from pydeck>=0.1.dev5->streamlit) (7.6.3)\n",
            "Collecting smmap<5,>=3.0.1\n",
            "  Downloading https://files.pythonhosted.org/packages/68/ee/d540eb5e5996eb81c26ceffac6ee49041d473bc5125f2aa995cf51ec1cf1/smmap-4.0.0-py2.py3-none-any.whl\n",
            "Requirement already satisfied: MarkupSafe>=0.23 in /usr/local/lib/python3.7/dist-packages (from jinja2->altair>=3.2.0->streamlit) (2.0.0)\n",
            "Requirement already satisfied: jupyter-client in /usr/local/lib/python3.7/dist-packages (from ipykernel>=5.1.2; python_version >= \"3.4\"->pydeck>=0.1.dev5->streamlit) (5.3.5)\n",
            "Requirement already satisfied: ipython>=5.0.0 in /usr/local/lib/python3.7/dist-packages (from ipykernel>=5.1.2; python_version >= \"3.4\"->pydeck>=0.1.dev5->streamlit) (5.5.0)\n",
            "Requirement already satisfied: ipython-genutils in /usr/local/lib/python3.7/dist-packages (from traitlets>=4.3.2->pydeck>=0.1.dev5->streamlit) (0.2.0)\n",
            "Requirement already satisfied: widgetsnbextension~=3.5.0 in /usr/local/lib/python3.7/dist-packages (from ipywidgets>=7.0.0->pydeck>=0.1.dev5->streamlit) (3.5.1)\n",
            "Requirement already satisfied: nbformat>=4.2.0 in /usr/local/lib/python3.7/dist-packages (from ipywidgets>=7.0.0->pydeck>=0.1.dev5->streamlit) (5.1.3)\n",
            "Requirement already satisfied: jupyterlab-widgets>=1.0.0; python_version >= \"3.6\" in /usr/local/lib/python3.7/dist-packages (from ipywidgets>=7.0.0->pydeck>=0.1.dev5->streamlit) (1.0.0)\n",
            "Requirement already satisfied: pyzmq>=13 in /usr/local/lib/python3.7/dist-packages (from jupyter-client->ipykernel>=5.1.2; python_version >= \"3.4\"->pydeck>=0.1.dev5->streamlit) (22.0.3)\n",
            "Requirement already satisfied: jupyter-core>=4.6.0 in /usr/local/lib/python3.7/dist-packages (from jupyter-client->ipykernel>=5.1.2; python_version >= \"3.4\"->pydeck>=0.1.dev5->streamlit) (4.7.1)\n",
            "Requirement already satisfied: pickleshare in /usr/local/lib/python3.7/dist-packages (from ipython>=5.0.0->ipykernel>=5.1.2; python_version >= \"3.4\"->pydeck>=0.1.dev5->streamlit) (0.7.5)\n",
            "Requirement already satisfied: pexpect; sys_platform != \"win32\" in /usr/local/lib/python3.7/dist-packages (from ipython>=5.0.0->ipykernel>=5.1.2; python_version >= \"3.4\"->pydeck>=0.1.dev5->streamlit) (4.8.0)\n",
            "Requirement already satisfied: pygments in /usr/local/lib/python3.7/dist-packages (from ipython>=5.0.0->ipykernel>=5.1.2; python_version >= \"3.4\"->pydeck>=0.1.dev5->streamlit) (2.6.1)\n",
            "Requirement already satisfied: simplegeneric>0.8 in /usr/local/lib/python3.7/dist-packages (from ipython>=5.0.0->ipykernel>=5.1.2; python_version >= \"3.4\"->pydeck>=0.1.dev5->streamlit) (0.8.1)\n",
            "Requirement already satisfied: prompt-toolkit<2.0.0,>=1.0.4 in /usr/local/lib/python3.7/dist-packages (from ipython>=5.0.0->ipykernel>=5.1.2; python_version >= \"3.4\"->pydeck>=0.1.dev5->streamlit) (1.0.18)\n",
            "Requirement already satisfied: notebook>=4.4.1 in /usr/local/lib/python3.7/dist-packages (from widgetsnbextension~=3.5.0->ipywidgets>=7.0.0->pydeck>=0.1.dev5->streamlit) (5.3.1)\n",
            "Requirement already satisfied: ptyprocess>=0.5 in /usr/local/lib/python3.7/dist-packages (from pexpect; sys_platform != \"win32\"->ipython>=5.0.0->ipykernel>=5.1.2; python_version >= \"3.4\"->pydeck>=0.1.dev5->streamlit) (0.7.0)\n",
            "Requirement already satisfied: wcwidth in /usr/local/lib/python3.7/dist-packages (from prompt-toolkit<2.0.0,>=1.0.4->ipython>=5.0.0->ipykernel>=5.1.2; python_version >= \"3.4\"->pydeck>=0.1.dev5->streamlit) (0.2.5)\n",
            "Requirement already satisfied: terminado>=0.8.1 in /usr/local/lib/python3.7/dist-packages (from notebook>=4.4.1->widgetsnbextension~=3.5.0->ipywidgets>=7.0.0->pydeck>=0.1.dev5->streamlit) (0.9.5)\n",
            "Requirement already satisfied: Send2Trash in /usr/local/lib/python3.7/dist-packages (from notebook>=4.4.1->widgetsnbextension~=3.5.0->ipywidgets>=7.0.0->pydeck>=0.1.dev5->streamlit) (1.5.0)\n",
            "Requirement already satisfied: nbconvert in /usr/local/lib/python3.7/dist-packages (from notebook>=4.4.1->widgetsnbextension~=3.5.0->ipywidgets>=7.0.0->pydeck>=0.1.dev5->streamlit) (5.6.1)\n",
            "Requirement already satisfied: bleach in /usr/local/lib/python3.7/dist-packages (from nbconvert->notebook>=4.4.1->widgetsnbextension~=3.5.0->ipywidgets>=7.0.0->pydeck>=0.1.dev5->streamlit) (3.3.0)\n",
            "Requirement already satisfied: mistune<2,>=0.8.1 in /usr/local/lib/python3.7/dist-packages (from nbconvert->notebook>=4.4.1->widgetsnbextension~=3.5.0->ipywidgets>=7.0.0->pydeck>=0.1.dev5->streamlit) (0.8.4)\n",
            "Requirement already satisfied: testpath in /usr/local/lib/python3.7/dist-packages (from nbconvert->notebook>=4.4.1->widgetsnbextension~=3.5.0->ipywidgets>=7.0.0->pydeck>=0.1.dev5->streamlit) (0.4.4)\n",
            "Requirement already satisfied: defusedxml in /usr/local/lib/python3.7/dist-packages (from nbconvert->notebook>=4.4.1->widgetsnbextension~=3.5.0->ipywidgets>=7.0.0->pydeck>=0.1.dev5->streamlit) (0.7.1)\n",
            "Requirement already satisfied: pandocfilters>=1.4.1 in /usr/local/lib/python3.7/dist-packages (from nbconvert->notebook>=4.4.1->widgetsnbextension~=3.5.0->ipywidgets>=7.0.0->pydeck>=0.1.dev5->streamlit) (1.4.3)\n",
            "Requirement already satisfied: webencodings in /usr/local/lib/python3.7/dist-packages (from bleach->nbconvert->notebook>=4.4.1->widgetsnbextension~=3.5.0->ipywidgets>=7.0.0->pydeck>=0.1.dev5->streamlit) (0.5.1)\n",
            "Building wheels for collected packages: blinker\n",
            "  Building wheel for blinker (setup.py) ... \u001b[?25l\u001b[?25hdone\n",
            "  Created wheel for blinker: filename=blinker-1.4-cp37-none-any.whl size=13448 sha256=0646b51466b39b14988d87b3411f9ae42361d344a2fa748676cfef9a73616ce7\n",
            "  Stored in directory: /root/.cache/pip/wheels/92/a0/00/8690a57883956a301d91cf4ec999cc0b258b01e3f548f86e89\n",
            "Successfully built blinker\n",
            "\u001b[31mERROR: google-colab 1.0.0 has requirement ipykernel~=4.10, but you'll have ipykernel 5.5.5 which is incompatible.\u001b[0m\n",
            "Installing collected packages: base58, smmap, gitdb, gitpython, blinker, validators, watchdog, click, ipykernel, pydeck, streamlit\n",
            "  Found existing installation: click 8.0.0\n",
            "    Uninstalling click-8.0.0:\n",
            "      Successfully uninstalled click-8.0.0\n",
            "  Found existing installation: ipykernel 4.10.1\n",
            "    Uninstalling ipykernel-4.10.1:\n",
            "      Successfully uninstalled ipykernel-4.10.1\n",
            "Successfully installed base58-2.1.0 blinker-1.4 click-7.1.2 gitdb-4.0.7 gitpython-3.1.17 ipykernel-5.5.5 pydeck-0.6.2 smmap-4.0.0 streamlit-0.82.0 validators-0.18.2 watchdog-2.1.2\n"
          ],
          "name": "stdout"
        },
        {
          "output_type": "display_data",
          "data": {
            "application/vnd.colab-display-data+json": {
              "pip_warning": {
                "packages": [
                  "ipykernel"
                ]
              }
            }
          },
          "metadata": {
            "tags": []
          }
        }
      ]
    },
    {
      "cell_type": "code",
      "metadata": {
        "colab": {
          "base_uri": "https://localhost:8080/"
        },
        "id": "vfp_j5c7vCmn",
        "outputId": "c9c35808-1576-4eae-ba0d-b0e60b9292af"
      },
      "source": [
        "%%writefile app.py\n",
        "\n",
        "import streamlit as st\n",
        "st.set_option('depreciation.showfileUploaderEncoding', False)\n",
        "@st.cache(allow_output_mutation=True)\n",
        "def load_model():\n",
        "  model=tf.keras.models.load_model('/content/my_model2.hdfs')\n",
        "  return model\n",
        "model=load_model()\n",
        "st.write(\"\"\"\n",
        "      # Covid-19 Detector\n",
        "\n",
        "\"\"\")  \n",
        "\n",
        "file = st.file_uploader(\"Upload your Chest X-ray file to detect Covid-19\", type=[\"jpg\", \"png\"])\n",
        "import cv2\n",
        "import numpy as np\n",
        "from PIL import Image, ImageOps\n",
        "def import_and_predict(image_data, model):\n",
        "  size=(224, 224)\n",
        "  image = ImageOps.fit(image_data, size, Image.ANTIALIAS)\n",
        "  img = np.array(image)\n",
        "  img_reshape = img[np.newaxis,...]\n",
        "  prediction = model.predict(img_reshape)\n",
        "\n",
        "  return prediction\n",
        "if file is None:\n",
        "  st.text(image, use_coumn_width=True)\n",
        "  predictions = import_and_predict(image, model)\n",
        "  class_names=[\"Covid\", \"Normal\"]\n",
        "  string=\"The result was most likely to be: \"+class_names[np.argmax(predictions)]\n",
        "  st.success(string)\n",
        "  \n"
      ],
      "execution_count": 1,
      "outputs": [
        {
          "output_type": "stream",
          "text": [
            "Writing app.py\n"
          ],
          "name": "stdout"
        }
      ]
    },
    {
      "cell_type": "code",
      "metadata": {
        "colab": {
          "base_uri": "https://localhost:8080/"
        },
        "id": "2qe-PTJPywrc",
        "outputId": "77066901-ab76-4a04-8ab6-20dff9e983a1"
      },
      "source": [
        "!ngrok authtoken 1sseG6auv7uZLE3URPDiN9ID1rF_5aZTfsVUq6W8bmGUoogAa"
      ],
      "execution_count": 4,
      "outputs": [
        {
          "output_type": "stream",
          "text": [
            "/bin/bash: ngrok: command not found\n"
          ],
          "name": "stdout"
        }
      ]
    }
  ]
}